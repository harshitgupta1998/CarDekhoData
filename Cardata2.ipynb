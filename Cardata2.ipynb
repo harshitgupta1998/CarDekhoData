{
 "metadata": {
  "language_info": {
   "codemirror_mode": {
    "name": "ipython",
    "version": 3
   },
   "file_extension": ".py",
   "mimetype": "text/x-python",
   "name": "python",
   "nbconvert_exporter": "python",
   "pygments_lexer": "ipython3",
   "version": "3.8.3-final"
  },
  "orig_nbformat": 2,
  "kernelspec": {
   "name": "Python 3.8.3 64-bit",
   "display_name": "Python 3.8.3 64-bit",
   "metadata": {
    "interpreter": {
     "hash": "7df332387c0946b9fa392827f6610f004e6a54f5679a7c41b4cedf79853f2c0c"
    }
   }
  }
 },
 "nbformat": 4,
 "nbformat_minor": 2,
 "cells": [
  {
   "cell_type": "code",
   "execution_count": 39,
   "metadata": {},
   "outputs": [],
   "source": [
    "import pandas as pd\n",
    "import numpy as np\n"
   ]
  },
  {
   "source": [
    "#Removing null values in dataset"
   ],
   "cell_type": "markdown",
   "metadata": {}
  },
  {
   "cell_type": "code",
   "execution_count": 40,
   "metadata": {},
   "outputs": [],
   "source": [
    "df= pd.read_csv(r\"C:/Users/harshit/Desktop/CarDekho/Car details v3.csv\")"
   ]
  },
  {
   "cell_type": "code",
   "execution_count": 41,
   "metadata": {},
   "outputs": [
    {
     "output_type": "execute_result",
     "data": {
      "text/plain": [
       "(8128, 11)"
      ]
     },
     "metadata": {},
     "execution_count": 41
    }
   ],
   "source": [
    "df.drop(['name'],axis=1, inplace=True)\n",
    "df['seats'].fillna(df['seats'].median(),inplace=True)\n",
    "df.drop(['torque'],axis=1,inplace=True)\n",
    "\n",
    "df.shape\n"
   ]
  },
  {
   "cell_type": "code",
   "execution_count": 42,
   "metadata": {},
   "outputs": [],
   "source": [
    "df.dropna(axis=0, how='any', inplace=True)\n",
    "final_df=df\n"
   ]
  },
  {
   "cell_type": "code",
   "execution_count": 43,
   "metadata": {},
   "outputs": [
    {
     "output_type": "execute_result",
     "data": {
      "text/plain": [
       "   year  selling_price  km_driven    fuel seller_type transmission  \\\n",
       "0  2014         450000     145500  Diesel  Individual       Manual   \n",
       "1  2014         370000     120000  Diesel  Individual       Manual   \n",
       "2  2006         158000     140000  Petrol  Individual       Manual   \n",
       "3  2010         225000     127000  Diesel  Individual       Manual   \n",
       "4  2007         130000     120000  Petrol  Individual       Manual   \n",
       "\n",
       "          owner     mileage   engine   max_power  seats  \n",
       "0   First Owner   23.4 kmpl  1248 CC      74 bhp    5.0  \n",
       "1  Second Owner  21.14 kmpl  1498 CC  103.52 bhp    5.0  \n",
       "2   Third Owner   17.7 kmpl  1497 CC      78 bhp    5.0  \n",
       "3   First Owner   23.0 kmpl  1396 CC      90 bhp    5.0  \n",
       "4   First Owner   16.1 kmpl  1298 CC    88.2 bhp    5.0  "
      ],
      "text/html": "<div>\n<style scoped>\n    .dataframe tbody tr th:only-of-type {\n        vertical-align: middle;\n    }\n\n    .dataframe tbody tr th {\n        vertical-align: top;\n    }\n\n    .dataframe thead th {\n        text-align: right;\n    }\n</style>\n<table border=\"1\" class=\"dataframe\">\n  <thead>\n    <tr style=\"text-align: right;\">\n      <th></th>\n      <th>year</th>\n      <th>selling_price</th>\n      <th>km_driven</th>\n      <th>fuel</th>\n      <th>seller_type</th>\n      <th>transmission</th>\n      <th>owner</th>\n      <th>mileage</th>\n      <th>engine</th>\n      <th>max_power</th>\n      <th>seats</th>\n    </tr>\n  </thead>\n  <tbody>\n    <tr>\n      <th>0</th>\n      <td>2014</td>\n      <td>450000</td>\n      <td>145500</td>\n      <td>Diesel</td>\n      <td>Individual</td>\n      <td>Manual</td>\n      <td>First Owner</td>\n      <td>23.4 kmpl</td>\n      <td>1248 CC</td>\n      <td>74 bhp</td>\n      <td>5.0</td>\n    </tr>\n    <tr>\n      <th>1</th>\n      <td>2014</td>\n      <td>370000</td>\n      <td>120000</td>\n      <td>Diesel</td>\n      <td>Individual</td>\n      <td>Manual</td>\n      <td>Second Owner</td>\n      <td>21.14 kmpl</td>\n      <td>1498 CC</td>\n      <td>103.52 bhp</td>\n      <td>5.0</td>\n    </tr>\n    <tr>\n      <th>2</th>\n      <td>2006</td>\n      <td>158000</td>\n      <td>140000</td>\n      <td>Petrol</td>\n      <td>Individual</td>\n      <td>Manual</td>\n      <td>Third Owner</td>\n      <td>17.7 kmpl</td>\n      <td>1497 CC</td>\n      <td>78 bhp</td>\n      <td>5.0</td>\n    </tr>\n    <tr>\n      <th>3</th>\n      <td>2010</td>\n      <td>225000</td>\n      <td>127000</td>\n      <td>Diesel</td>\n      <td>Individual</td>\n      <td>Manual</td>\n      <td>First Owner</td>\n      <td>23.0 kmpl</td>\n      <td>1396 CC</td>\n      <td>90 bhp</td>\n      <td>5.0</td>\n    </tr>\n    <tr>\n      <th>4</th>\n      <td>2007</td>\n      <td>130000</td>\n      <td>120000</td>\n      <td>Petrol</td>\n      <td>Individual</td>\n      <td>Manual</td>\n      <td>First Owner</td>\n      <td>16.1 kmpl</td>\n      <td>1298 CC</td>\n      <td>88.2 bhp</td>\n      <td>5.0</td>\n    </tr>\n  </tbody>\n</table>\n</div>"
     },
     "metadata": {},
     "execution_count": 43
    }
   ],
   "source": [
    "df.isnull().sum()\n",
    "df.head()"
   ]
  },
  {
   "cell_type": "code",
   "execution_count": 44,
   "metadata": {},
   "outputs": [
    {
     "output_type": "execute_result",
     "data": {
      "text/plain": [
       "(7907, 11)"
      ]
     },
     "metadata": {},
     "execution_count": 44
    }
   ],
   "source": [
    "df.shape"
   ]
  },
  {
   "cell_type": "code",
   "execution_count": 45,
   "metadata": {},
   "outputs": [
    {
     "output_type": "execute_result",
     "data": {
      "text/plain": [
       "      year  selling_price  km_driven    fuel seller_type transmission  \\\n",
       "8123  2013         320000     110000  Petrol  Individual       Manual   \n",
       "8124  2007         135000     119000  Diesel  Individual       Manual   \n",
       "8125  2009         382000     120000  Diesel  Individual       Manual   \n",
       "8126  2013         290000      25000  Diesel  Individual       Manual   \n",
       "8127  2013         290000      25000  Diesel  Individual       Manual   \n",
       "\n",
       "                     owner     mileage   engine  max_power  seats  \n",
       "8123           First Owner   18.5 kmpl  1197 CC  82.85 bhp    5.0  \n",
       "8124  Fourth & Above Owner   16.8 kmpl  1493 CC    110 bhp    5.0  \n",
       "8125           First Owner   19.3 kmpl  1248 CC   73.9 bhp    5.0  \n",
       "8126           First Owner  23.57 kmpl  1396 CC     70 bhp    5.0  \n",
       "8127           First Owner  23.57 kmpl  1396 CC     70 bhp    5.0  "
      ],
      "text/html": "<div>\n<style scoped>\n    .dataframe tbody tr th:only-of-type {\n        vertical-align: middle;\n    }\n\n    .dataframe tbody tr th {\n        vertical-align: top;\n    }\n\n    .dataframe thead th {\n        text-align: right;\n    }\n</style>\n<table border=\"1\" class=\"dataframe\">\n  <thead>\n    <tr style=\"text-align: right;\">\n      <th></th>\n      <th>year</th>\n      <th>selling_price</th>\n      <th>km_driven</th>\n      <th>fuel</th>\n      <th>seller_type</th>\n      <th>transmission</th>\n      <th>owner</th>\n      <th>mileage</th>\n      <th>engine</th>\n      <th>max_power</th>\n      <th>seats</th>\n    </tr>\n  </thead>\n  <tbody>\n    <tr>\n      <th>8123</th>\n      <td>2013</td>\n      <td>320000</td>\n      <td>110000</td>\n      <td>Petrol</td>\n      <td>Individual</td>\n      <td>Manual</td>\n      <td>First Owner</td>\n      <td>18.5 kmpl</td>\n      <td>1197 CC</td>\n      <td>82.85 bhp</td>\n      <td>5.0</td>\n    </tr>\n    <tr>\n      <th>8124</th>\n      <td>2007</td>\n      <td>135000</td>\n      <td>119000</td>\n      <td>Diesel</td>\n      <td>Individual</td>\n      <td>Manual</td>\n      <td>Fourth &amp; Above Owner</td>\n      <td>16.8 kmpl</td>\n      <td>1493 CC</td>\n      <td>110 bhp</td>\n      <td>5.0</td>\n    </tr>\n    <tr>\n      <th>8125</th>\n      <td>2009</td>\n      <td>382000</td>\n      <td>120000</td>\n      <td>Diesel</td>\n      <td>Individual</td>\n      <td>Manual</td>\n      <td>First Owner</td>\n      <td>19.3 kmpl</td>\n      <td>1248 CC</td>\n      <td>73.9 bhp</td>\n      <td>5.0</td>\n    </tr>\n    <tr>\n      <th>8126</th>\n      <td>2013</td>\n      <td>290000</td>\n      <td>25000</td>\n      <td>Diesel</td>\n      <td>Individual</td>\n      <td>Manual</td>\n      <td>First Owner</td>\n      <td>23.57 kmpl</td>\n      <td>1396 CC</td>\n      <td>70 bhp</td>\n      <td>5.0</td>\n    </tr>\n    <tr>\n      <th>8127</th>\n      <td>2013</td>\n      <td>290000</td>\n      <td>25000</td>\n      <td>Diesel</td>\n      <td>Individual</td>\n      <td>Manual</td>\n      <td>First Owner</td>\n      <td>23.57 kmpl</td>\n      <td>1396 CC</td>\n      <td>70 bhp</td>\n      <td>5.0</td>\n    </tr>\n  </tbody>\n</table>\n</div>"
     },
     "metadata": {},
     "execution_count": 45
    }
   ],
   "source": [
    "#df.head()\n",
    "df.tail()"
   ]
  },
  {
   "cell_type": "code",
   "execution_count": 46,
   "metadata": {},
   "outputs": [
    {
     "output_type": "stream",
     "name": "stdout",
     "text": [
      "69192.55646895156\n56789.76160208454\n"
     ]
    }
   ],
   "source": [
    "import statistics\n",
    "km_driven_mean=np.mean(df['km_driven'])\n",
    "km_driven_svd=statistics.stdev(df['km_driven'])\n",
    "print(km_driven_mean)\n",
    "print(km_driven_svd)\n",
    "\n",
    "# while i in df['km_driven']:\n",
    "#     df.loc[i, \"km_driven\"]=(df.loc[i, \"km_driven\"]-km_driven_mean)/km_driven_svd"
   ]
  },
  {
   "cell_type": "code",
   "execution_count": 47,
   "metadata": {},
   "outputs": [
    {
     "output_type": "execute_result",
     "data": {
      "text/plain": [
       "   year  selling_price  km_driven    fuel seller_type transmission  \\\n",
       "0  2014         450000     145500  Diesel  Individual       Manual   \n",
       "1  2014         370000     120000  Diesel  Individual       Manual   \n",
       "2  2006         158000     140000  Petrol  Individual       Manual   \n",
       "3  2010         225000     127000  Diesel  Individual       Manual   \n",
       "4  2007         130000     120000  Petrol  Individual       Manual   \n",
       "\n",
       "          owner     mileage   engine   max_power  seats  \n",
       "0   First Owner   23.4 kmpl  1248 CC      74 bhp    5.0  \n",
       "1  Second Owner  21.14 kmpl  1498 CC  103.52 bhp    5.0  \n",
       "2   Third Owner   17.7 kmpl  1497 CC      78 bhp    5.0  \n",
       "3   First Owner   23.0 kmpl  1396 CC      90 bhp    5.0  \n",
       "4   First Owner   16.1 kmpl  1298 CC    88.2 bhp    5.0  "
      ],
      "text/html": "<div>\n<style scoped>\n    .dataframe tbody tr th:only-of-type {\n        vertical-align: middle;\n    }\n\n    .dataframe tbody tr th {\n        vertical-align: top;\n    }\n\n    .dataframe thead th {\n        text-align: right;\n    }\n</style>\n<table border=\"1\" class=\"dataframe\">\n  <thead>\n    <tr style=\"text-align: right;\">\n      <th></th>\n      <th>year</th>\n      <th>selling_price</th>\n      <th>km_driven</th>\n      <th>fuel</th>\n      <th>seller_type</th>\n      <th>transmission</th>\n      <th>owner</th>\n      <th>mileage</th>\n      <th>engine</th>\n      <th>max_power</th>\n      <th>seats</th>\n    </tr>\n  </thead>\n  <tbody>\n    <tr>\n      <th>0</th>\n      <td>2014</td>\n      <td>450000</td>\n      <td>145500</td>\n      <td>Diesel</td>\n      <td>Individual</td>\n      <td>Manual</td>\n      <td>First Owner</td>\n      <td>23.4 kmpl</td>\n      <td>1248 CC</td>\n      <td>74 bhp</td>\n      <td>5.0</td>\n    </tr>\n    <tr>\n      <th>1</th>\n      <td>2014</td>\n      <td>370000</td>\n      <td>120000</td>\n      <td>Diesel</td>\n      <td>Individual</td>\n      <td>Manual</td>\n      <td>Second Owner</td>\n      <td>21.14 kmpl</td>\n      <td>1498 CC</td>\n      <td>103.52 bhp</td>\n      <td>5.0</td>\n    </tr>\n    <tr>\n      <th>2</th>\n      <td>2006</td>\n      <td>158000</td>\n      <td>140000</td>\n      <td>Petrol</td>\n      <td>Individual</td>\n      <td>Manual</td>\n      <td>Third Owner</td>\n      <td>17.7 kmpl</td>\n      <td>1497 CC</td>\n      <td>78 bhp</td>\n      <td>5.0</td>\n    </tr>\n    <tr>\n      <th>3</th>\n      <td>2010</td>\n      <td>225000</td>\n      <td>127000</td>\n      <td>Diesel</td>\n      <td>Individual</td>\n      <td>Manual</td>\n      <td>First Owner</td>\n      <td>23.0 kmpl</td>\n      <td>1396 CC</td>\n      <td>90 bhp</td>\n      <td>5.0</td>\n    </tr>\n    <tr>\n      <th>4</th>\n      <td>2007</td>\n      <td>130000</td>\n      <td>120000</td>\n      <td>Petrol</td>\n      <td>Individual</td>\n      <td>Manual</td>\n      <td>First Owner</td>\n      <td>16.1 kmpl</td>\n      <td>1298 CC</td>\n      <td>88.2 bhp</td>\n      <td>5.0</td>\n    </tr>\n  </tbody>\n</table>\n</div>"
     },
     "metadata": {},
     "execution_count": 47
    }
   ],
   "source": [
    "df.head()"
   ]
  },
  {
   "cell_type": "code",
   "execution_count": 48,
   "metadata": {
    "tags": []
   },
   "outputs": [],
   "source": [
    "df['mileage'] = df['mileage'].map(lambda x: x.rstrip(' kmpl'))\n",
    "df['mileage'] = df['mileage'].map(lambda x: x.rstrip(' km/kg'))\n",
    "\n",
    "df['engine'] = df['engine'].map(lambda x: x.rstrip(' CC'))\n",
    "df['max_power'] = df['max_power'].map(lambda x: x.rstrip(' bhp'))\n"
   ]
  },
  {
   "cell_type": "code",
   "execution_count": 49,
   "metadata": {},
   "outputs": [
    {
     "output_type": "execute_result",
     "data": {
      "text/plain": [
       "year             0\n",
       "selling_price    0\n",
       "km_driven        0\n",
       "fuel             0\n",
       "seller_type      0\n",
       "transmission     0\n",
       "owner            0\n",
       "mileage          0\n",
       "engine           0\n",
       "max_power        0\n",
       "seats            0\n",
       "dtype: int64"
      ]
     },
     "metadata": {},
     "execution_count": 49
    }
   ],
   "source": [
    "df.isnull().sum()"
   ]
  },
  {
   "cell_type": "code",
   "execution_count": 50,
   "metadata": {},
   "outputs": [],
   "source": [
    "\n",
    "#df=pd.get_dummies(df,drop_first=True)"
   ]
  },
  {
   "cell_type": "code",
   "execution_count": 51,
   "metadata": {},
   "outputs": [],
   "source": [
    "\n",
    "df['mileage'] = df['mileage'].map(lambda x: x.rstrip('  km/kg'))\n",
    "df.head(10)\n",
    "df.to_csv(r\"C:/Users/harshit/Desktop/CarDekho/DataSet.csv\")\n",
    "df= pd.read_csv(r\"C:/Users/harshit/Desktop/CarDekho/DataSet.csv\")"
   ]
  },
  {
   "cell_type": "code",
   "execution_count": 55,
   "metadata": {},
   "outputs": [],
   "source": [
    "final_df=df\n",
    "df=pd.get_dummies(df,drop_first=True)"
   ]
  },
  {
   "cell_type": "code",
   "execution_count": 58,
   "metadata": {},
   "outputs": [
    {
     "output_type": "execute_result",
     "data": {
      "text/plain": [
       "(7907, 18)"
      ]
     },
     "metadata": {},
     "execution_count": 58
    }
   ],
   "source": [
    "df.shape"
   ]
  },
  {
   "cell_type": "code",
   "execution_count": 59,
   "metadata": {},
   "outputs": [
    {
     "output_type": "execute_result",
     "data": {
      "text/plain": [
       "   Unnamed: 0  year  selling_price  km_driven  mileage  engine  max_power  \\\n",
       "0           0  2014         450000     145500    23.40    1248      74.00   \n",
       "1           1  2014         370000     120000    21.14    1498     103.52   \n",
       "2           2  2006         158000     140000    17.70    1497      78.00   \n",
       "3           3  2010         225000     127000    23.00    1396      90.00   \n",
       "4           4  2007         130000     120000    16.10    1298      88.20   \n",
       "\n",
       "   seats  fuel_Diesel  fuel_LPG  fuel_Petrol  seller_type_Individual  \\\n",
       "0    5.0            1         0            0                       1   \n",
       "1    5.0            1         0            0                       1   \n",
       "2    5.0            0         0            1                       1   \n",
       "3    5.0            1         0            0                       1   \n",
       "4    5.0            0         0            1                       1   \n",
       "\n",
       "   seller_type_Trustmark Dealer  transmission_Manual  \\\n",
       "0                             0                    1   \n",
       "1                             0                    1   \n",
       "2                             0                    1   \n",
       "3                             0                    1   \n",
       "4                             0                    1   \n",
       "\n",
       "   owner_Fourth & Above Owner  owner_Second Owner  owner_Test Drive Car  \\\n",
       "0                           0                   0                     0   \n",
       "1                           0                   1                     0   \n",
       "2                           0                   0                     0   \n",
       "3                           0                   0                     0   \n",
       "4                           0                   0                     0   \n",
       "\n",
       "   owner_Third Owner  \n",
       "0                  0  \n",
       "1                  0  \n",
       "2                  1  \n",
       "3                  0  \n",
       "4                  0  "
      ],
      "text/html": "<div>\n<style scoped>\n    .dataframe tbody tr th:only-of-type {\n        vertical-align: middle;\n    }\n\n    .dataframe tbody tr th {\n        vertical-align: top;\n    }\n\n    .dataframe thead th {\n        text-align: right;\n    }\n</style>\n<table border=\"1\" class=\"dataframe\">\n  <thead>\n    <tr style=\"text-align: right;\">\n      <th></th>\n      <th>Unnamed: 0</th>\n      <th>year</th>\n      <th>selling_price</th>\n      <th>km_driven</th>\n      <th>mileage</th>\n      <th>engine</th>\n      <th>max_power</th>\n      <th>seats</th>\n      <th>fuel_Diesel</th>\n      <th>fuel_LPG</th>\n      <th>fuel_Petrol</th>\n      <th>seller_type_Individual</th>\n      <th>seller_type_Trustmark Dealer</th>\n      <th>transmission_Manual</th>\n      <th>owner_Fourth &amp; Above Owner</th>\n      <th>owner_Second Owner</th>\n      <th>owner_Test Drive Car</th>\n      <th>owner_Third Owner</th>\n    </tr>\n  </thead>\n  <tbody>\n    <tr>\n      <th>0</th>\n      <td>0</td>\n      <td>2014</td>\n      <td>450000</td>\n      <td>145500</td>\n      <td>23.40</td>\n      <td>1248</td>\n      <td>74.00</td>\n      <td>5.0</td>\n      <td>1</td>\n      <td>0</td>\n      <td>0</td>\n      <td>1</td>\n      <td>0</td>\n      <td>1</td>\n      <td>0</td>\n      <td>0</td>\n      <td>0</td>\n      <td>0</td>\n    </tr>\n    <tr>\n      <th>1</th>\n      <td>1</td>\n      <td>2014</td>\n      <td>370000</td>\n      <td>120000</td>\n      <td>21.14</td>\n      <td>1498</td>\n      <td>103.52</td>\n      <td>5.0</td>\n      <td>1</td>\n      <td>0</td>\n      <td>0</td>\n      <td>1</td>\n      <td>0</td>\n      <td>1</td>\n      <td>0</td>\n      <td>1</td>\n      <td>0</td>\n      <td>0</td>\n    </tr>\n    <tr>\n      <th>2</th>\n      <td>2</td>\n      <td>2006</td>\n      <td>158000</td>\n      <td>140000</td>\n      <td>17.70</td>\n      <td>1497</td>\n      <td>78.00</td>\n      <td>5.0</td>\n      <td>0</td>\n      <td>0</td>\n      <td>1</td>\n      <td>1</td>\n      <td>0</td>\n      <td>1</td>\n      <td>0</td>\n      <td>0</td>\n      <td>0</td>\n      <td>1</td>\n    </tr>\n    <tr>\n      <th>3</th>\n      <td>3</td>\n      <td>2010</td>\n      <td>225000</td>\n      <td>127000</td>\n      <td>23.00</td>\n      <td>1396</td>\n      <td>90.00</td>\n      <td>5.0</td>\n      <td>1</td>\n      <td>0</td>\n      <td>0</td>\n      <td>1</td>\n      <td>0</td>\n      <td>1</td>\n      <td>0</td>\n      <td>0</td>\n      <td>0</td>\n      <td>0</td>\n    </tr>\n    <tr>\n      <th>4</th>\n      <td>4</td>\n      <td>2007</td>\n      <td>130000</td>\n      <td>120000</td>\n      <td>16.10</td>\n      <td>1298</td>\n      <td>88.20</td>\n      <td>5.0</td>\n      <td>0</td>\n      <td>0</td>\n      <td>1</td>\n      <td>1</td>\n      <td>0</td>\n      <td>1</td>\n      <td>0</td>\n      <td>0</td>\n      <td>0</td>\n      <td>0</td>\n    </tr>\n  </tbody>\n</table>\n</div>"
     },
     "metadata": {},
     "execution_count": 59
    }
   ],
   "source": [
    "df.head()"
   ]
  },
  {
   "cell_type": "code",
   "execution_count": 74,
   "metadata": {},
   "outputs": [],
   "source": [
    "df['current_year']=2020\n",
    "#df['total_used_year']=df['current_year']-df['year']\n",
    "#df.drop(['year'],axis=1,inplace=True)\n",
    "df.drop(['current_year'],axis=1,inplace=True)"
   ]
  },
  {
   "cell_type": "code",
   "execution_count": 75,
   "metadata": {},
   "outputs": [
    {
     "output_type": "execute_result",
     "data": {
      "text/plain": [
       "   Unnamed: 0  selling_price  km_driven  mileage  engine  max_power  seats  \\\n",
       "0           0         450000     145500    23.40    1248      74.00    5.0   \n",
       "1           1         370000     120000    21.14    1498     103.52    5.0   \n",
       "2           2         158000     140000    17.70    1497      78.00    5.0   \n",
       "3           3         225000     127000    23.00    1396      90.00    5.0   \n",
       "4           4         130000     120000    16.10    1298      88.20    5.0   \n",
       "\n",
       "   fuel_Diesel  fuel_LPG  fuel_Petrol  seller_type_Individual  \\\n",
       "0            1         0            0                       1   \n",
       "1            1         0            0                       1   \n",
       "2            0         0            1                       1   \n",
       "3            1         0            0                       1   \n",
       "4            0         0            1                       1   \n",
       "\n",
       "   seller_type_Trustmark Dealer  transmission_Manual  \\\n",
       "0                             0                    1   \n",
       "1                             0                    1   \n",
       "2                             0                    1   \n",
       "3                             0                    1   \n",
       "4                             0                    1   \n",
       "\n",
       "   owner_Fourth & Above Owner  owner_Second Owner  owner_Test Drive Car  \\\n",
       "0                           0                   0                     0   \n",
       "1                           0                   1                     0   \n",
       "2                           0                   0                     0   \n",
       "3                           0                   0                     0   \n",
       "4                           0                   0                     0   \n",
       "\n",
       "   owner_Third Owner  total_used_year  \n",
       "0                  0                6  \n",
       "1                  0                6  \n",
       "2                  1               14  \n",
       "3                  0               10  \n",
       "4                  0               13  "
      ],
      "text/html": "<div>\n<style scoped>\n    .dataframe tbody tr th:only-of-type {\n        vertical-align: middle;\n    }\n\n    .dataframe tbody tr th {\n        vertical-align: top;\n    }\n\n    .dataframe thead th {\n        text-align: right;\n    }\n</style>\n<table border=\"1\" class=\"dataframe\">\n  <thead>\n    <tr style=\"text-align: right;\">\n      <th></th>\n      <th>Unnamed: 0</th>\n      <th>selling_price</th>\n      <th>km_driven</th>\n      <th>mileage</th>\n      <th>engine</th>\n      <th>max_power</th>\n      <th>seats</th>\n      <th>fuel_Diesel</th>\n      <th>fuel_LPG</th>\n      <th>fuel_Petrol</th>\n      <th>seller_type_Individual</th>\n      <th>seller_type_Trustmark Dealer</th>\n      <th>transmission_Manual</th>\n      <th>owner_Fourth &amp; Above Owner</th>\n      <th>owner_Second Owner</th>\n      <th>owner_Test Drive Car</th>\n      <th>owner_Third Owner</th>\n      <th>total_used_year</th>\n    </tr>\n  </thead>\n  <tbody>\n    <tr>\n      <th>0</th>\n      <td>0</td>\n      <td>450000</td>\n      <td>145500</td>\n      <td>23.40</td>\n      <td>1248</td>\n      <td>74.00</td>\n      <td>5.0</td>\n      <td>1</td>\n      <td>0</td>\n      <td>0</td>\n      <td>1</td>\n      <td>0</td>\n      <td>1</td>\n      <td>0</td>\n      <td>0</td>\n      <td>0</td>\n      <td>0</td>\n      <td>6</td>\n    </tr>\n    <tr>\n      <th>1</th>\n      <td>1</td>\n      <td>370000</td>\n      <td>120000</td>\n      <td>21.14</td>\n      <td>1498</td>\n      <td>103.52</td>\n      <td>5.0</td>\n      <td>1</td>\n      <td>0</td>\n      <td>0</td>\n      <td>1</td>\n      <td>0</td>\n      <td>1</td>\n      <td>0</td>\n      <td>1</td>\n      <td>0</td>\n      <td>0</td>\n      <td>6</td>\n    </tr>\n    <tr>\n      <th>2</th>\n      <td>2</td>\n      <td>158000</td>\n      <td>140000</td>\n      <td>17.70</td>\n      <td>1497</td>\n      <td>78.00</td>\n      <td>5.0</td>\n      <td>0</td>\n      <td>0</td>\n      <td>1</td>\n      <td>1</td>\n      <td>0</td>\n      <td>1</td>\n      <td>0</td>\n      <td>0</td>\n      <td>0</td>\n      <td>1</td>\n      <td>14</td>\n    </tr>\n    <tr>\n      <th>3</th>\n      <td>3</td>\n      <td>225000</td>\n      <td>127000</td>\n      <td>23.00</td>\n      <td>1396</td>\n      <td>90.00</td>\n      <td>5.0</td>\n      <td>1</td>\n      <td>0</td>\n      <td>0</td>\n      <td>1</td>\n      <td>0</td>\n      <td>1</td>\n      <td>0</td>\n      <td>0</td>\n      <td>0</td>\n      <td>0</td>\n      <td>10</td>\n    </tr>\n    <tr>\n      <th>4</th>\n      <td>4</td>\n      <td>130000</td>\n      <td>120000</td>\n      <td>16.10</td>\n      <td>1298</td>\n      <td>88.20</td>\n      <td>5.0</td>\n      <td>0</td>\n      <td>0</td>\n      <td>1</td>\n      <td>1</td>\n      <td>0</td>\n      <td>1</td>\n      <td>0</td>\n      <td>0</td>\n      <td>0</td>\n      <td>0</td>\n      <td>13</td>\n    </tr>\n  </tbody>\n</table>\n</div>"
     },
     "metadata": {},
     "execution_count": 75
    }
   ],
   "source": [
    "df.head()"
   ]
  },
  {
   "cell_type": "code",
   "execution_count": 76,
   "metadata": {},
   "outputs": [
    {
     "output_type": "execute_result",
     "data": {
      "text/plain": [
       "   Unnamed: 0  selling_price  km_driven  mileage  engine  max_power  seats  \\\n",
       "0           0         450000     145500    23.40    1248      74.00    5.0   \n",
       "1           1         370000     120000    21.14    1498     103.52    5.0   \n",
       "2           2         158000     140000    17.70    1497      78.00    5.0   \n",
       "3           3         225000     127000    23.00    1396      90.00    5.0   \n",
       "4           4         130000     120000    16.10    1298      88.20    5.0   \n",
       "\n",
       "   fuel_Diesel  fuel_LPG  fuel_Petrol  seller_type_Individual  \\\n",
       "0            1         0            0                       1   \n",
       "1            1         0            0                       1   \n",
       "2            0         0            1                       1   \n",
       "3            1         0            0                       1   \n",
       "4            0         0            1                       1   \n",
       "\n",
       "   seller_type_Trustmark Dealer  transmission_Manual  \\\n",
       "0                             0                    1   \n",
       "1                             0                    1   \n",
       "2                             0                    1   \n",
       "3                             0                    1   \n",
       "4                             0                    1   \n",
       "\n",
       "   owner_Fourth & Above Owner  owner_Second Owner  owner_Test Drive Car  \\\n",
       "0                           0                   0                     0   \n",
       "1                           0                   1                     0   \n",
       "2                           0                   0                     0   \n",
       "3                           0                   0                     0   \n",
       "4                           0                   0                     0   \n",
       "\n",
       "   owner_Third Owner  total_used_year  \n",
       "0                  0                6  \n",
       "1                  0                6  \n",
       "2                  1               14  \n",
       "3                  0               10  \n",
       "4                  0               13  "
      ],
      "text/html": "<div>\n<style scoped>\n    .dataframe tbody tr th:only-of-type {\n        vertical-align: middle;\n    }\n\n    .dataframe tbody tr th {\n        vertical-align: top;\n    }\n\n    .dataframe thead th {\n        text-align: right;\n    }\n</style>\n<table border=\"1\" class=\"dataframe\">\n  <thead>\n    <tr style=\"text-align: right;\">\n      <th></th>\n      <th>Unnamed: 0</th>\n      <th>selling_price</th>\n      <th>km_driven</th>\n      <th>mileage</th>\n      <th>engine</th>\n      <th>max_power</th>\n      <th>seats</th>\n      <th>fuel_Diesel</th>\n      <th>fuel_LPG</th>\n      <th>fuel_Petrol</th>\n      <th>seller_type_Individual</th>\n      <th>seller_type_Trustmark Dealer</th>\n      <th>transmission_Manual</th>\n      <th>owner_Fourth &amp; Above Owner</th>\n      <th>owner_Second Owner</th>\n      <th>owner_Test Drive Car</th>\n      <th>owner_Third Owner</th>\n      <th>total_used_year</th>\n    </tr>\n  </thead>\n  <tbody>\n    <tr>\n      <th>0</th>\n      <td>0</td>\n      <td>450000</td>\n      <td>145500</td>\n      <td>23.40</td>\n      <td>1248</td>\n      <td>74.00</td>\n      <td>5.0</td>\n      <td>1</td>\n      <td>0</td>\n      <td>0</td>\n      <td>1</td>\n      <td>0</td>\n      <td>1</td>\n      <td>0</td>\n      <td>0</td>\n      <td>0</td>\n      <td>0</td>\n      <td>6</td>\n    </tr>\n    <tr>\n      <th>1</th>\n      <td>1</td>\n      <td>370000</td>\n      <td>120000</td>\n      <td>21.14</td>\n      <td>1498</td>\n      <td>103.52</td>\n      <td>5.0</td>\n      <td>1</td>\n      <td>0</td>\n      <td>0</td>\n      <td>1</td>\n      <td>0</td>\n      <td>1</td>\n      <td>0</td>\n      <td>1</td>\n      <td>0</td>\n      <td>0</td>\n      <td>6</td>\n    </tr>\n    <tr>\n      <th>2</th>\n      <td>2</td>\n      <td>158000</td>\n      <td>140000</td>\n      <td>17.70</td>\n      <td>1497</td>\n      <td>78.00</td>\n      <td>5.0</td>\n      <td>0</td>\n      <td>0</td>\n      <td>1</td>\n      <td>1</td>\n      <td>0</td>\n      <td>1</td>\n      <td>0</td>\n      <td>0</td>\n      <td>0</td>\n      <td>1</td>\n      <td>14</td>\n    </tr>\n    <tr>\n      <th>3</th>\n      <td>3</td>\n      <td>225000</td>\n      <td>127000</td>\n      <td>23.00</td>\n      <td>1396</td>\n      <td>90.00</td>\n      <td>5.0</td>\n      <td>1</td>\n      <td>0</td>\n      <td>0</td>\n      <td>1</td>\n      <td>0</td>\n      <td>1</td>\n      <td>0</td>\n      <td>0</td>\n      <td>0</td>\n      <td>0</td>\n      <td>10</td>\n    </tr>\n    <tr>\n      <th>4</th>\n      <td>4</td>\n      <td>130000</td>\n      <td>120000</td>\n      <td>16.10</td>\n      <td>1298</td>\n      <td>88.20</td>\n      <td>5.0</td>\n      <td>0</td>\n      <td>0</td>\n      <td>1</td>\n      <td>1</td>\n      <td>0</td>\n      <td>1</td>\n      <td>0</td>\n      <td>0</td>\n      <td>0</td>\n      <td>0</td>\n      <td>13</td>\n    </tr>\n  </tbody>\n</table>\n</div>"
     },
     "metadata": {},
     "execution_count": 76
    }
   ],
   "source": [
    "df.head()"
   ]
  },
  {
   "cell_type": "code",
   "execution_count": 82,
   "metadata": {},
   "outputs": [],
   "source": [
    "final_dataCol=df\n",
    "final_dataCol.head()\n",
    "x=final_dataCol.iloc[:,2:]\n",
    "y=final_dataCol.iloc[:,1]"
   ]
  },
  {
   "cell_type": "code",
   "execution_count": 83,
   "metadata": {},
   "outputs": [
    {
     "output_type": "stream",
     "name": "stdout",
     "text": [
      "      km_driven  mileage  engine  max_power  seats  fuel_Diesel  fuel_LPG  \\\n0        145500    23.40    1248      74.00    5.0            1         0   \n1        120000    21.14    1498     103.52    5.0            1         0   \n2        140000    17.70    1497      78.00    5.0            0         0   \n3        127000    23.00    1396      90.00    5.0            1         0   \n4        120000    16.10    1298      88.20    5.0            0         0   \n...         ...      ...     ...        ...    ...          ...       ...   \n7902     110000    18.50    1197      82.85    5.0            0         0   \n7903     119000    16.80    1493     110.00    5.0            1         0   \n7904     120000    19.30    1248      73.90    5.0            1         0   \n7905      25000    23.57    1396      70.00    5.0            1         0   \n7906      25000    23.57    1396      70.00    5.0            1         0   \n\n      fuel_Petrol  seller_type_Individual  seller_type_Trustmark Dealer  \\\n0               0                       1                             0   \n1               0                       1                             0   \n2               1                       1                             0   \n3               0                       1                             0   \n4               1                       1                             0   \n...           ...                     ...                           ...   \n7902            1                       1                             0   \n7903            0                       1                             0   \n7904            0                       1                             0   \n7905            0                       1                             0   \n7906            0                       1                             0   \n\n      transmission_Manual  owner_Fourth & Above Owner  owner_Second Owner  \\\n0                       1                           0                   0   \n1                       1                           0                   1   \n2                       1                           0                   0   \n3                       1                           0                   0   \n4                       1                           0                   0   \n...                   ...                         ...                 ...   \n7902                    1                           0                   0   \n7903                    1                           1                   0   \n7904                    1                           0                   0   \n7905                    1                           0                   0   \n7906                    1                           0                   0   \n\n      owner_Test Drive Car  owner_Third Owner  total_used_year  \n0                        0                  0                6  \n1                        0                  0                6  \n2                        0                  1               14  \n3                        0                  0               10  \n4                        0                  0               13  \n...                    ...                ...              ...  \n7902                     0                  0                7  \n7903                     0                  0               13  \n7904                     0                  0               11  \n7905                     0                  0                7  \n7906                     0                  0                7  \n\n[7907 rows x 16 columns]\n"
     ]
    }
   ],
   "source": [
    "print(x)"
   ]
  },
  {
   "cell_type": "code",
   "execution_count": null,
   "metadata": {},
   "outputs": [],
   "source": []
  }
 ]
}